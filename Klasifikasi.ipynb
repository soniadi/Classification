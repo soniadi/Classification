{
 "cells": [
  {
   "cell_type": "markdown",
   "metadata": {},
   "source": [
    "<center><b>Setosa :\n",
    "<img src=\"http://upload.wikimedia.org/wikipedia/commons/5/56/Kosaciec_szczecinkowaty_Iris_setosa.jpg\" width=300 height=300><br>\n",
    "Versicolor :\n",
    "\n",
    "<img src=\"http://upload.wikimedia.org/wikipedia/commons/4/41/Iris_versicolor_3.jpg\" width=300 height=300>\n",
    "<br>\n",
    "Virginica :\n",
    "\n",
    "<img src=\"http://upload.wikimedia.org/wikipedia/commons/9/9f/Iris_virginica.jpg\" width=300 height=300>"
   ]
  },
  {
   "cell_type": "code",
   "execution_count": null,
   "metadata": {},
   "outputs": [],
   "source": [
    "from sklearn.datasets import load_iris"
   ]
  },
  {
   "cell_type": "code",
   "execution_count": null,
   "metadata": {},
   "outputs": [],
   "source": [
    "iris = load_iris()\n",
    "print(iris.DESCR)"
   ]
  },
  {
   "cell_type": "markdown",
   "metadata": {},
   "source": [
    "### Muat data"
   ]
  },
  {
   "cell_type": "code",
   "execution_count": null,
   "metadata": {},
   "outputs": [],
   "source": [
    "import pandas as pd"
   ]
  },
  {
   "cell_type": "code",
   "execution_count": null,
   "metadata": {
    "scrolled": true
   },
   "outputs": [],
   "source": [
    "data = pd.read_csv(\"iris.csv\")\n",
    "data.head()"
   ]
  },
  {
   "cell_type": "markdown",
   "metadata": {},
   "source": [
    "### Visualisasi Data"
   ]
  },
  {
   "cell_type": "code",
   "execution_count": null,
   "metadata": {},
   "outputs": [],
   "source": [
    "import matplotlib.pyplot as plt\n",
    "import seaborn as sns"
   ]
  },
  {
   "cell_type": "code",
   "execution_count": null,
   "metadata": {
    "scrolled": false
   },
   "outputs": [],
   "source": [
    "plt.scatter(data.petal_length[:50], data.petal_width[:50], c='red', label=\"setosa\")\n",
    "plt.scatter(data.petal_length[50:100], data.petal_width[50:100], c='green', label=\"versicolor\")\n",
    "plt.scatter(data.petal_length[100:], data.petal_width[100:], c='blue', label=\"virginica\")\n",
    "\n",
    "plt.title(\"Korelasi antara petal length & petal width\")\n",
    "plt.xlabel(\"Petal Length\")\n",
    "plt.ylabel(\"Petal width\")\n",
    "\n",
    "plt.legend(loc=\"lower right\")"
   ]
  },
  {
   "cell_type": "code",
   "execution_count": null,
   "metadata": {
    "scrolled": true
   },
   "outputs": [],
   "source": [
    "plt.hist(data.petal_length[:50], color='red', label=\"setosa\", histtype='step')\n",
    "plt.hist(data.petal_length[50:100], color='green', label=\"versicolor\", histtype='step')\n",
    "plt.hist(data.petal_length[100:], color='blue', label=\"virginica\", histtype='step')\n",
    "\n",
    "plt.title(\"Histogram Petal Length\")\n",
    "plt.xlabel(\"Urutan data\")\n",
    "plt.ylabel(\"Jumlah data\")\n",
    "\n",
    "plt.legend()"
   ]
  },
  {
   "cell_type": "code",
   "execution_count": null,
   "metadata": {
    "scrolled": false
   },
   "outputs": [],
   "source": [
    "# TAMPILKAN SELURUH KORELASI ANTAR 2 VARIABEL\n",
    "sns.pairplot(data, hue=\"species\")"
   ]
  },
  {
   "cell_type": "markdown",
   "metadata": {},
   "source": [
    "### Bagi *dataset*"
   ]
  },
  {
   "cell_type": "code",
   "execution_count": null,
   "metadata": {},
   "outputs": [],
   "source": [
    "from sklearn.model_selection import train_test_split"
   ]
  },
  {
   "cell_type": "code",
   "execution_count": null,
   "metadata": {},
   "outputs": [],
   "source": [
    "x_train, x_test, y_train, y_test = train_test_split(data.drop(\"species\", axis=1), data[\"species\"], test_size=0.3)"
   ]
  },
  {
   "cell_type": "markdown",
   "metadata": {},
   "source": [
    "<b>axis=0</b> mengambil data berdasarkan baris<br>\n",
    "<b>axis=1</b> mengambil data berdasarkan kolom<br>"
   ]
  },
  {
   "cell_type": "code",
   "execution_count": null,
   "metadata": {
    "scrolled": true
   },
   "outputs": [],
   "source": [
    "x_train.head()"
   ]
  },
  {
   "cell_type": "code",
   "execution_count": null,
   "metadata": {},
   "outputs": [],
   "source": [
    "y_train.head()"
   ]
  },
  {
   "cell_type": "markdown",
   "metadata": {},
   "source": [
    "## Algoritma klasifikasi yang digunakan : K-Nearest Neighbor"
   ]
  },
  {
   "cell_type": "markdown",
   "metadata": {},
   "source": [
    "<img src=\"http://www.coxdocs.org/lib/exe/fetch.php?w=300&tok=bc385a&media=perseus:user:activities:matrixprocessing:learning:knn.png\">"
   ]
  },
  {
   "cell_type": "code",
   "execution_count": null,
   "metadata": {},
   "outputs": [],
   "source": [
    "from sklearn.neighbors import KNeighborsClassifier"
   ]
  },
  {
   "cell_type": "markdown",
   "metadata": {},
   "source": [
    "<img src=\"https://www.saedsayad.com/images/KNN_similarity.png\">"
   ]
  },
  {
   "cell_type": "code",
   "execution_count": null,
   "metadata": {
    "scrolled": true
   },
   "outputs": [],
   "source": [
    "clf = KNeighborsClassifier()\n",
    "clf = clf.fit(x_train, y_train)   # PROSES TRAINING\n",
    "clf"
   ]
  },
  {
   "cell_type": "markdown",
   "metadata": {},
   "source": [
    "algorithm = *ball_tree, kd_tree, brute-force, auto*. Algoritma yang digunakan untuk perhitungan K-NN<br>\n",
    "leaf_size = Akan berfungsi apabila ball_tree atau kd_tree dipilih. Mempengaruhi kecepatan *query* data(tergantung memori juga)<br>\n",
    "metric = fungsi minkowski(default). Bisa juga dibuat sendiri<br>\n",
    "metric_params = None. argumen tambahan untuk *metric function*<br>\n",
    "n_jobs = Jumlah *parallel jobs* yang digunakan untuk mencari tetangga terdekat. *default : single-host, process-based parallelism*.<br>\n",
    "n_neighbors = int<br>\n",
    "p = 1 : rumus manhattan distance, 2 : rumus euclidean distance(default)<br>\n",
    "weights = uniform(default) Semua data diberi bobot yang sama. distance : tetangga terdekat memiliki bobot terbesar"
   ]
  },
  {
   "cell_type": "markdown",
   "metadata": {},
   "source": [
    "### Evaluasi proses pelatihan"
   ]
  },
  {
   "cell_type": "code",
   "execution_count": null,
   "metadata": {},
   "outputs": [],
   "source": [
    "from sklearn.metrics import confusion_matrix, classification_report"
   ]
  },
  {
   "cell_type": "code",
   "execution_count": null,
   "metadata": {},
   "outputs": [],
   "source": [
    "clf.score(x_test, y_test)"
   ]
  },
  {
   "cell_type": "code",
   "execution_count": null,
   "metadata": {
    "scrolled": false
   },
   "outputs": [],
   "source": [
    "y_test_predicted = clf.predict(x_test)\n",
    "cf = pd.DataFrame(confusion_matrix(y_test,y_test_predicted))\n",
    "cf.rename(columns={0:'setosa', 1:'versicolor', 2:'virginica'},\n",
    "          index={0:'setosa', 1:'versicolor', 2:'vriginica'},\n",
    "          inplace=True)\n",
    "cf"
   ]
  },
  {
   "cell_type": "markdown",
   "metadata": {},
   "source": [
    "kolom = nilai prediksi<br>\n",
    "baris = nilai asli"
   ]
  },
  {
   "cell_type": "code",
   "execution_count": null,
   "metadata": {
    "scrolled": false
   },
   "outputs": [],
   "source": [
    "print(classification_report(y_test, y_test_predicted))"
   ]
  },
  {
   "cell_type": "markdown",
   "metadata": {},
   "source": [
    "precission = (TP) / (TP+FP) | horizontal<br>\n",
    "recall = (TP) / (TP + FN) | vertikal<br>\n",
    "f1 score = 2 x (Recall x Precission)/(Recall + Precission)<br>\n",
    "\n",
    "macro avg = (p1+p2+pn)/n<br>\n",
    "weighted avg = <img src=\"https://cdn.staticaly.com/img/4.bp.blogspot.com/-aW2o_tJ7JlU/UfsJ1qOA9DI/AAAAAAAABvs/Et6Z9dGlVSA/s1600/rumus+rata-rata+tertimbang.png\">"
   ]
  },
  {
   "cell_type": "markdown",
   "metadata": {},
   "source": [
    "### Simpan & muat model"
   ]
  },
  {
   "cell_type": "code",
   "execution_count": null,
   "metadata": {},
   "outputs": [],
   "source": [
    "from sklearn.externals import joblib"
   ]
  },
  {
   "cell_type": "markdown",
   "metadata": {},
   "source": [
    "Setelah kita melatih \"mesin\" akan terbentuk sebuah model dari pembelajaran mesin tersebut<br>\n",
    "Model haruslah disimpan agar model ini dapat di-<i>deploy</i> ke dalam sebuah aplikasi."
   ]
  },
  {
   "cell_type": "code",
   "execution_count": null,
   "metadata": {},
   "outputs": [],
   "source": [
    "joblib.dump(clf, 'trained_model.pkl')"
   ]
  },
  {
   "cell_type": "code",
   "execution_count": null,
   "metadata": {},
   "outputs": [],
   "source": [
    "trained_clf = joblib.load('trained_model.pkl') "
   ]
  },
  {
   "cell_type": "code",
   "execution_count": null,
   "metadata": {
    "scrolled": true
   },
   "outputs": [],
   "source": [
    "clf.score(x_test, y_test) == trained_clf.score(x_test, y_test)"
   ]
  },
  {
   "cell_type": "code",
   "execution_count": null,
   "metadata": {},
   "outputs": [],
   "source": []
  }
 ],
 "metadata": {
  "kernelspec": {
   "display_name": "Python 3",
   "language": "python",
   "name": "python3"
  },
  "language_info": {
   "codemirror_mode": {
    "name": "ipython",
    "version": 3
   },
   "file_extension": ".py",
   "mimetype": "text/x-python",
   "name": "python",
   "nbconvert_exporter": "python",
   "pygments_lexer": "ipython3",
   "version": "3.6.8"
  }
 },
 "nbformat": 4,
 "nbformat_minor": 2
}
